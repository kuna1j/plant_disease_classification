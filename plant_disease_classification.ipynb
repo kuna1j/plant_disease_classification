{
  "nbformat": 4,
  "nbformat_minor": 0,
  "metadata": {
    "colab": {
      "provenance": []
    },
    "kernelspec": {
      "name": "python3",
      "display_name": "Python 3"
    },
    "language_info": {
      "name": "python"
    }
  },
  "cells": [
    {
      "cell_type": "code",
      "source": [
        "!pip install split-folders"
      ],
      "metadata": {
        "colab": {
          "base_uri": "https://localhost:8080/"
        },
        "id": "a0teRckC-JIr",
        "outputId": "7bfa57ad-32e9-4358-e115-7b63862129c0"
      },
      "execution_count": null,
      "outputs": [
        {
          "output_type": "stream",
          "name": "stdout",
          "text": [
            "Looking in indexes: https://pypi.org/simple, https://us-python.pkg.dev/colab-wheels/public/simple/\n",
            "Collecting split-folders\n",
            "  Downloading split_folders-0.5.1-py3-none-any.whl (8.4 kB)\n",
            "Installing collected packages: split-folders\n",
            "Successfully installed split-folders-0.5.1\n"
          ]
        }
      ]
    },
    {
      "cell_type": "markdown",
      "source": [
        "# **Mounting Drive**"
      ],
      "metadata": {
        "id": "VVyWQ_VmqCAM"
      }
    },
    {
      "cell_type": "code",
      "source": [
        "from google.colab import drive\n",
        "drive.mount('/content/drive')"
      ],
      "metadata": {
        "colab": {
          "base_uri": "https://localhost:8080/"
        },
        "id": "4hwapu-qBRYO",
        "outputId": "0f3b770c-823b-406a-b5f3-d3061e0dee57"
      },
      "execution_count": null,
      "outputs": [
        {
          "output_type": "stream",
          "name": "stdout",
          "text": [
            "Drive already mounted at /content/drive; to attempt to forcibly remount, call drive.mount(\"/content/drive\", force_remount=True).\n"
          ]
        }
      ]
    },
    {
      "cell_type": "markdown",
      "source": [
        "# **Importing Modules, Splitting Directory & Using ImageDataGenerator**"
      ],
      "metadata": {
        "id": "vJZDaShLqJX-"
      }
    },
    {
      "cell_type": "code",
      "source": [
        "import tensorflow as tf\n",
        "import splitfolders\n",
        "from keras.preprocessing.image import ImageDataGenerator\n",
        "import numpy as np\n",
        "import matplotlib.pyplot as plt\n",
        "from keras.utils import load_img, img_to_array"
      ],
      "metadata": {
        "id": "0yKotO2EdJGx"
      },
      "execution_count": null,
      "outputs": []
    },
    {
      "cell_type": "markdown",
      "source": [
        "**Splitting Directory in Training, Validation and Test Folders**"
      ],
      "metadata": {
        "id": "e0XBtnBk4shy"
      }
    },
    {
      "cell_type": "code",
      "source": [
        "splitfolders.ratio('/content/drive/MyDrive/extra_project/corn_or_maize/data', output='/content/drive/MyDrive/extra_project', seed=1337, ratio=(0.8, 0, 0.2))"
      ],
      "metadata": {
        "colab": {
          "base_uri": "https://localhost:8080/"
        },
        "id": "YGi6IXve-N4n",
        "outputId": "690ac2be-1a9f-4833-f2f2-5aba87e01c18"
      },
      "execution_count": null,
      "outputs": [
        {
          "output_type": "stream",
          "name": "stderr",
          "text": [
            "Copying files: 4164 files [24:57,  2.78 files/s]\n"
          ]
        }
      ]
    },
    {
      "cell_type": "markdown",
      "source": [
        "**Using ImageDataGenerator to label the data inside the folders**"
      ],
      "metadata": {
        "id": "OiCuDFRW4wfD"
      }
    },
    {
      "cell_type": "code",
      "source": [
        "train_datagen = ImageDataGenerator(rescale=1./255, horizontal_flip=True)\n",
        "training_set = train_datagen.flow_from_directory('/content/drive/MyDrive/extra_project/train', \n",
        "                                                 target_size=(64, 64), batch_size=32, \n",
        "                                                 class_mode='categorical')"
      ],
      "metadata": {
        "id": "DmcTlpiP_G6T",
        "colab": {
          "base_uri": "https://localhost:8080/"
        },
        "outputId": "b3f0da24-e8d9-4903-8c5a-ca4628cf89aa"
      },
      "execution_count": null,
      "outputs": [
        {
          "output_type": "stream",
          "name": "stdout",
          "text": [
            "Found 3329 images belonging to 4 classes.\n"
          ]
        }
      ]
    },
    {
      "cell_type": "code",
      "source": [
        "test_datagen = ImageDataGenerator(rescale=1./255)\n",
        "test_set = test_datagen.flow_from_directory('/content/drive/MyDrive/extra_project/test', \n",
        "                                                 target_size=(64, 64), batch_size=32, \n",
        "                                                 class_mode='categorical')"
      ],
      "metadata": {
        "colab": {
          "base_uri": "https://localhost:8080/"
        },
        "id": "yUNBCLq3ET-V",
        "outputId": "95532da3-3fb4-430d-8569-b5881f217c99"
      },
      "execution_count": null,
      "outputs": [
        {
          "output_type": "stream",
          "name": "stdout",
          "text": [
            "Found 835 images belonging to 4 classes.\n"
          ]
        }
      ]
    },
    {
      "cell_type": "markdown",
      "source": [
        "# **Simple CNN Implementation**"
      ],
      "metadata": {
        "id": "eSrNvtcVIPzH"
      }
    },
    {
      "cell_type": "code",
      "source": [
        "cnn = tf.keras.Sequential()\n",
        "cnn.add(tf.keras.layers.Conv2D(32,3, activation='relu', padding='same', input_shape=(64, 64, 3)))\n",
        "cnn.add(tf.keras.layers.MaxPool2D(2,2))\n",
        "cnn.add(tf.keras.layers.Conv2D(32,3, activation='relu', padding='same'))\n",
        "cnn.add(tf.keras.layers.MaxPool2D(2,2))\n",
        "cnn.add(tf.keras.layers.Conv2D(32,3, activation='relu', padding='same'))\n",
        "cnn.add(tf.keras.layers.MaxPool2D(2,2))\n",
        "cnn.add(tf.keras.layers.Flatten())\n",
        "cnn.add(tf.keras.layers.Dense(4, activation='softmax'))\n",
        "cnn.compile(optimizer='adam', loss='categorical_crossentropy', metrics=['accuracy'])"
      ],
      "metadata": {
        "id": "EboBVX1TE9yr"
      },
      "execution_count": null,
      "outputs": []
    },
    {
      "cell_type": "code",
      "source": [
        "cnn.fit(x=training_set, validation_data=test_set, epochs=10)"
      ],
      "metadata": {
        "id": "CZnf9JsaGh3b",
        "colab": {
          "base_uri": "https://localhost:8080/"
        },
        "outputId": "d0aad5c9-495e-48a5-ed63-4016823cc4d1"
      },
      "execution_count": null,
      "outputs": [
        {
          "output_type": "stream",
          "name": "stdout",
          "text": [
            "Epoch 1/10\n",
            "105/105 [==============================] - 41s 389ms/step - loss: 0.7358 - accuracy: 0.6978 - val_loss: 0.5449 - val_accuracy: 0.7784\n",
            "Epoch 2/10\n",
            "105/105 [==============================] - 41s 388ms/step - loss: 0.4590 - accuracy: 0.8099 - val_loss: 0.4579 - val_accuracy: 0.8072\n",
            "Epoch 3/10\n",
            "105/105 [==============================] - 43s 409ms/step - loss: 0.4065 - accuracy: 0.8255 - val_loss: 0.4490 - val_accuracy: 0.8072\n",
            "Epoch 4/10\n",
            "105/105 [==============================] - 40s 383ms/step - loss: 0.3766 - accuracy: 0.8426 - val_loss: 0.3974 - val_accuracy: 0.8299\n",
            "Epoch 5/10\n",
            "105/105 [==============================] - 40s 383ms/step - loss: 0.3447 - accuracy: 0.8579 - val_loss: 0.4240 - val_accuracy: 0.8263\n",
            "Epoch 6/10\n",
            "105/105 [==============================] - 41s 387ms/step - loss: 0.3197 - accuracy: 0.8669 - val_loss: 0.3560 - val_accuracy: 0.8467\n",
            "Epoch 7/10\n",
            "105/105 [==============================] - 47s 449ms/step - loss: 0.2895 - accuracy: 0.8810 - val_loss: 0.3949 - val_accuracy: 0.8575\n",
            "Epoch 8/10\n",
            "105/105 [==============================] - 40s 384ms/step - loss: 0.2842 - accuracy: 0.8813 - val_loss: 0.3601 - val_accuracy: 0.8503\n",
            "Epoch 9/10\n",
            "105/105 [==============================] - 41s 387ms/step - loss: 0.2566 - accuracy: 0.9024 - val_loss: 0.3205 - val_accuracy: 0.8623\n",
            "Epoch 10/10\n",
            "105/105 [==============================] - 41s 385ms/step - loss: 0.2396 - accuracy: 0.9051 - val_loss: 0.3047 - val_accuracy: 0.8862\n"
          ]
        },
        {
          "output_type": "execute_result",
          "data": {
            "text/plain": [
              "<keras.callbacks.History at 0x7f7a12c1c2b0>"
            ]
          },
          "metadata": {},
          "execution_count": 119
        }
      ]
    },
    {
      "cell_type": "code",
      "source": [
        "print(training_set.class_indices)"
      ],
      "metadata": {
        "colab": {
          "base_uri": "https://localhost:8080/"
        },
        "id": "OTdyEpxCLia6",
        "outputId": "fcba4aa7-e324-4597-f76e-dfb5df6ee994"
      },
      "execution_count": null,
      "outputs": [
        {
          "output_type": "stream",
          "name": "stdout",
          "text": [
            "{'Blight': 0, 'Common_Rust': 1, 'Gray_Leaf_Spot': 2, 'Healthy': 3}\n"
          ]
        }
      ]
    },
    {
      "cell_type": "markdown",
      "source": [
        "# **Prediction**"
      ],
      "metadata": {
        "id": "T8KraPK8YnTg"
      }
    },
    {
      "cell_type": "code",
      "source": [
        "test_image = load_img('/content/drive/MyDrive/extra_project/corn_or_maize/data/Gray_Leaf_Spot/Corn_Gray_Spot (104).JPG', \n",
        "                            target_size=[64, 64])\n",
        "plt.imshow(test_image)\n",
        "plt.show()\n",
        "test_image = img_to_array(test_image)\n",
        "test_image = test_image/255\n",
        "print(test_image.shape)\n",
        "test_image = np.expand_dims(test_image, axis=0)\n",
        "result = cnn.predict(test_image)\n",
        "print(result.shape)\n",
        "print(result[0])\n",
        "print(np.argmax(result))"
      ],
      "metadata": {
        "colab": {
          "base_uri": "https://localhost:8080/",
          "height": 355
        },
        "id": "M6iyBVJhGrZU",
        "outputId": "8f8b1273-b5b3-418f-e53f-3a7757c8e0c8"
      },
      "execution_count": null,
      "outputs": [
        {
          "output_type": "display_data",
          "data": {
            "text/plain": [
              "<Figure size 432x288 with 1 Axes>"
            ],
            "image/png": "[encoded data removed]"
          },
          "metadata": {
            "needs_background": "light"
          }
        },
        {
          "output_type": "stream",
          "name": "stdout",
          "text": [
            "(64, 64, 3)\n",
            "1/1 [==============================] - 0s 24ms/step\n",
            "(1, 4)\n",
            "[3.5644251e-01 1.3941082e-03 6.4215022e-01 1.3170166e-05]\n",
            "2\n"
          ]
        }
      ]
    },
    {
      "cell_type": "code",
      "source": [
        "Categories=['Blight', 'Common_Rust', 'Gray_Leaf_Spot', 'Healthy']\n",
        "Prediction = Categories[np.argmax(result)]\n",
        "print(Prediction)"
      ],
      "metadata": {
        "colab": {
          "base_uri": "https://localhost:8080/"
        },
        "id": "46FVIjSqHrLb",
        "outputId": "3650edd7-1284-4259-ab77-5c774adeab74"
      },
      "execution_count": null,
      "outputs": [
        {
          "output_type": "stream",
          "name": "stdout",
          "text": [
            "Gray_Leaf_Spot\n"
          ]
        }
      ]
    }
  ]
}